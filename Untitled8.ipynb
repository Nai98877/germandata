{
  "nbformat": 4,
  "nbformat_minor": 0,
  "metadata": {
    "colab": {
      "provenance": [],
      "authorship_tag": "ABX9TyPpYkHbky2gesjfK05Jk0Gb",
      "include_colab_link": true
    },
    "kernelspec": {
      "name": "python3",
      "display_name": "Python 3"
    },
    "language_info": {
      "name": "python"
    }
  },
  "cells": [
    {
      "cell_type": "markdown",
      "metadata": {
        "id": "view-in-github",
        "colab_type": "text"
      },
      "source": [
        "<a href=\"https://colab.research.google.com/github/Nai98877/germandata/blob/main/Untitled8.ipynb\" target=\"_parent\"><img src=\"https://colab.research.google.com/assets/colab-badge.svg\" alt=\"Open In Colab\"/></a>"
      ]
    },
    {
      "cell_type": "code",
      "execution_count": 1,
      "metadata": {
        "colab": {
          "base_uri": "https://localhost:8080/"
        },
        "id": "0eRcNgWA4NWd",
        "outputId": "6e98190e-6970-46a1-e082-c0873f9bd3b8"
      },
      "outputs": [
        {
          "output_type": "stream",
          "name": "stdout",
          "text": [
            "Dataset saved to older_adults_usability_dataset.csv\n"
          ]
        }
      ],
      "source": [
        "import pandas as pd\n",
        "import numpy as np\n",
        "\n",
        "# Updated study dataset (total sample size = 800)\n",
        "study_data = [\n",
        "    {\"Study\": \"Mobile Usability Challenges\", \"Authors\": \"Qingchuan Li et al\", \"Year\": 2020, \"Sample_Size\": 90, \"Avg_Age\": 66,\n",
        "     \"Error_Rate\": 60, \"Common_Errors\": [\"Navigation Error\", \"Icon Misinterpretation\", \"Difficulty Recovering\"], \"Error_Context\": [\"Menu\"],\n",
        "     \"Feedback_Type\": \"Visual\", \"Feedback_Clarity\": {\"Unclear\": 60, \"Clear\": 40}, \"Recovery_Attempts\": 75, \"Recovery_Success\": 20, \"Time_to_Recover\": 20,\n",
        "     \"Frustration_Level\": \"High\", \"Cognitive_Load\": \"High\", \"Assistive_Tech_Used\": \"No\", \"Task_Pace\": \"Slow\", \"Help_Sought\": \"No\", \"Final_Outcome\": \"Task Completed\"},\n",
        "\n",
        "    {\"Study\": \"Influence of Age in Usability Testing\", \"Authors\": \"Sonderegger et al\", \"Year\": 2016, \"Sample_Size\": 30, \"Avg_Age\": 65,\n",
        "     \"Error_Rate\": 90, \"Common_Errors\": [\"Sign Up/Sign In Issues\"], \"Error_Context\": [\"Sign Up Pages\"],\n",
        "     \"Feedback_Type\": \"Visual\", \"Feedback_Clarity\": {\"Unclear\": 100}, \"Recovery_Attempts\": 55, \"Recovery_Success\": 100, \"Time_to_Recover\": 15,\n",
        "     \"Frustration_Level\": \"High\", \"Cognitive_Load\": \"High\", \"Assistive_Tech_Used\": \"No\", \"Task_Pace\": \"Slow\", \"Help_Sought\": \"No\", \"Final_Outcome\": \"Task Completed\"},\n",
        "\n",
        "    {\"Study\": \"Use of Mobile Phones by Elderly\", \"Authors\": \"Nasir, M., Hassan\", \"Year\": 2008, \"Sample_Size\": 150, \"Avg_Age\": 68,\n",
        "     \"Error_Rate\": 60, \"Common_Errors\": [\"Small Buttons\", \"Complex Menu\"], \"Error_Context\": [\"Calling\", \"Texting\", \"Navigating Features\"],\n",
        "     \"Feedback_Type\": \"Visual\", \"Feedback_Clarity\": {\"Unclear\": 70, \"Clear\": 30}, \"Recovery_Attempts\": 30, \"Recovery_Success\": 30, \"Time_to_Recover\": 15,\n",
        "     \"Frustration_Level\": \"High\", \"Cognitive_Load\": \"High\", \"Assistive_Tech_Used\": \"No\", \"Task_Pace\": \"Slow\", \"Help_Sought\": \"Yes\", \"Final_Outcome\": \"Task Incomplete\"},\n",
        "\n",
        "    {\"Study\": \"Usability for Senior Citizens\", \"Authors\": \"Jakob Nielsen\", \"Year\": 2013, \"Sample_Size\": 80, \"Avg_Age\": 70,\n",
        "     \"Error_Rate\": 50, \"Common_Errors\": [\"Small Buttons\", \"Unclear Directions\", \"Unclear Error Messages\"], \"Error_Context\": [\"General Navigation\"],\n",
        "     \"Feedback_Type\": \"Visual\", \"Feedback_Clarity\": {\"Unclear\": 45, \"Clear\": 55}, \"Recovery_Attempts\": 90, \"Recovery_Success\": 70, \"Time_to_Recover\": 5,\n",
        "     \"Frustration_Level\": \"High\", \"Cognitive_Load\": \"High\", \"Assistive_Tech_Used\": \"No\", \"Task_Pace\": \"Medium\", \"Help_Sought\": \"Yes\", \"Final_Outcome\": \"Task Completed\"},\n",
        "\n",
        "    {\"Study\": \"Smartphone Acceptance & Use\", \"Authors\": \"Xiaowen Zhu et al\", \"Year\": 2024, \"Sample_Size\": 450, \"Avg_Age\": 66,\n",
        "     \"Error_Rate\": 60, \"Common_Errors\": [\"Unclear Error Messages\"], \"Error_Context\": [\"Filling Questionnaire\"],\n",
        "     \"Feedback_Type\": \"Written\", \"Feedback_Clarity\": {\"Unclear\": 65, \"Clear\": 35}, \"Recovery_Attempts\": 75, \"Recovery_Success\": 30, \"Time_to_Recover\": 40,\n",
        "     \"Frustration_Level\": \"Medium\", \"Cognitive_Load\": \"High\", \"Assistive_Tech_Used\": \"No\", \"Task_Pace\": \"Slow\", \"Help_Sought\": \"Yes\", \"Final_Outcome\": \"Task Completed\"}\n",
        "]\n",
        "\n",
        "# Define feature options (adjusted for realism)\n",
        "tech_experience_levels = [\"Low\", \"Intermediate\", \"High\"]\n",
        "tech_experience_probs = [0.5, 0.35, 0.15]  # 50% Low, 35% Intermediate, 15% High (realistic for older adults)\n",
        "device_types = [\"Smartphone\"]  # All studies focus on smartphones\n",
        "\n",
        "# Generate dataset\n",
        "data = []\n",
        "user_id = 1000\n",
        "\n",
        "for study in study_data:\n",
        "    sample_size = study[\"Sample_Size\"]\n",
        "    num_errors = int((study[\"Error_Rate\"] / 100) * sample_size)\n",
        "    num_recovery_attempts = int((study[\"Recovery_Attempts\"] / 100) * num_errors)  # Only error-makers attempt recovery\n",
        "    num_recovery_successes = int((study[\"Recovery_Success\"] / 100) * num_recovery_attempts)\n",
        "\n",
        "    for i in range(sample_size):\n",
        "        made_error = 1 if i < num_errors else 0\n",
        "        recovery_attempted = 1 if (made_error and i < num_recovery_attempts) else 0\n",
        "        recovery_success = 1 if (recovery_attempted and i < num_recovery_successes) else 0\n",
        "\n",
        "        feedback_clarity_choice = np.random.choice(\n",
        "            list(study[\"Feedback_Clarity\"].keys()),\n",
        "            p=[v / 100 for v in study[\"Feedback_Clarity\"].values()]\n",
        "        )\n",
        "\n",
        "        data.append({\n",
        "            \"User_ID\": f\"U{user_id}\",\n",
        "            \"Study\": study[\"Study\"],\n",
        "            \"Authors\": study[\"Authors\"],\n",
        "            \"Year\": study[\"Year\"],\n",
        "            \"Age_Group\": \"65+\",  # All participants ≥65\n",
        "            \"Device_Type\": \"Smartphone\",\n",
        "            \"Tech_Experience_Level\": np.random.choice(tech_experience_levels, p=tech_experience_probs),\n",
        "            \"Made_Error\": made_error,\n",
        "            \"Error_Type\": np.random.choice(study[\"Common_Errors\"]) if made_error else \"None\",\n",
        "            \"Error_Context\": np.random.choice(study[\"Error_Context\"]) if made_error else \"None\",\n",
        "            \"Feedback_Type\": study[\"Feedback_Type\"],\n",
        "            \"Feedback_Clarity\": feedback_clarity_choice,\n",
        "            \"Recovery_Attempted\": recovery_attempted,\n",
        "            \"Recovery_Success\": recovery_success,\n",
        "            \"Time_to_Recover\": study[\"Time_to_Recover\"] if recovery_attempted else \"N/A\",\n",
        "            \"Frustration_Level\": study[\"Frustration_Level\"],\n",
        "            \"Cognitive_Load\": study[\"Cognitive_Load\"],\n",
        "            \"Assistive_Tech_Used\": study[\"Assistive_Tech_Used\"],\n",
        "            \"Task_Pace\": study[\"Task_Pace\"],\n",
        "            \"Help_Sought\": study[\"Help_Sought\"],\n",
        "            \"Final_Outcome\": study[\"Final_Outcome\"]\n",
        "        })\n",
        "\n",
        "        user_id += 1\n",
        "\n",
        "# Create DataFrame\n",
        "df = pd.DataFrame(data)\n",
        "\n",
        "# Save CSV (change the path to your local directory)\n",
        "file_path = \"older_adults_usability_dataset.csv\"\n",
        "df.to_csv(file_path, index=False)\n",
        "print(f\"Dataset saved to {file_path}\")"
      ]
    }
  ]
}